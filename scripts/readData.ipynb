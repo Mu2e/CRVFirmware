{
 "cells": [
  {
   "cell_type": "code",
   "execution_count": 1,
   "id": "aacb1a1e-c02a-474e-893f-fb0769defbb7",
   "metadata": {},
   "outputs": [],
   "source": [
    "from gr import *"
   ]
  },
  {
   "cell_type": "code",
   "execution_count": 6,
   "id": "b84128cc-66a2-4d24-a719-fd1c03e54da3",
   "metadata": {},
   "outputs": [
    {
     "name": "stdout",
     "output_type": "stream",
     "text": [
      "ls: cannot access '/scratch': No such file or directory\n"
     ]
    }
   ],
   "source": [
    "%ll /scratch"
   ]
  },
  {
   "cell_type": "code",
   "execution_count": null,
   "id": "3d097b1f-522c-40a3-bd09-c0596a960c7e",
   "metadata": {},
   "outputs": [],
   "source": []
  }
 ],
 "metadata": {
  "kernelspec": {
   "display_name": "Python 3 (ipykernel)",
   "language": "python",
   "name": "python3"
  },
  "language_info": {
   "codemirror_mode": {
    "name": "ipython",
    "version": 3
   },
   "file_extension": ".py",
   "mimetype": "text/x-python",
   "name": "python",
   "nbconvert_exporter": "python",
   "pygments_lexer": "ipython3",
   "version": "3.9.18"
  }
 },
 "nbformat": 4,
 "nbformat_minor": 5
}
