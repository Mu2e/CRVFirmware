{
 "cells": [
  {
   "cell_type": "code",
   "execution_count": 1,
   "id": "1653e776-82fa-439e-89f7-2bdc2be9a86b",
   "metadata": {},
   "outputs": [],
   "source": [
    "# External imports \n",
    "import sys\n",
    "# import serial\n",
    "import pandas as pd\n",
    "\n",
    "# Internal imports\n",
    "sys.path.append('..')\n",
    "import CRV "
   ]
  },
  {
   "cell_type": "code",
   "execution_count": 2,
   "id": "34dee1a0-32e1-4879-a95c-ecc931b87ca1",
   "metadata": {},
   "outputs": [],
   "source": [
    "# Initialise CRV class\n",
    "crv = CRV.CRV(\"/dev/ttyUSB0\", True)"
   ]
  },
  {
   "cell_type": "code",
   "execution_count": 3,
   "id": "ce06b8a5-8b66-474e-ae59-af5ab3c70a22",
   "metadata": {},
   "outputs": [
    {
     "name": "stdout",
     "output_type": "stream",
     "text": [
      "['LP', '__class__', '__del__', '__delattr__', '__dict__', '__dir__', '__doc__', '__eq__', '__format__', '__ge__', '__getattribute__', '__gt__', '__hash__', '__init__', '__init_subclass__', '__le__', '__lt__', '__module__', '__ne__', '__new__', '__reduce__', '__reduce_ex__', '__repr__', '__setattr__', '__sizeof__', '__str__', '__subclasshook__', '__weakref__', 'close', 'cmd', 'dcs', 'febAFEHighGain', 'febBias', 'febDdrStatus', 'febFPGA', 'febGetSample', 'febGetThr', 'febPageClear', 'febPageHeader', 'febPageRead', 'febPedestal', 'febPwrCycle', 'febReset', 'febSetAFEDAC', 'febSetBias', 'febSetGate', 'febSetThr', 'febSetup', 'getTriggers', 'lastUBs', 'markerBits', 'n_sample', 'page_size', 'parse', 'read', 'readDCS', 'readDReqTrace', 'readOutTrace', 'readOutput', 'readTriggers', 'readm', 'reset', 'resetLink', 'rocCnters', 'rocDdrRead', 'rocDdrReadEv', 'rocDdrReset', 'rocDdrStatus', 'rocDebBuffGet', 'rocDebBuffStatus', 'rocDebBuffTrig', 'rocDuty', 'rocFPGA', 'rocHeartbeat', 'rocLock', 'rocMarkerBits', 'rocReset', 'rocRx', 'rocSetPLLMon', 'rocSetup', 'rocTriggerReq', 'rocTx', 'rocUBCnt', 'rocUBunchCnt', 'sendDCS', 'ser', 'setPllMon', 'setup', 'setupData', 'setupGr', 'single', 'verbose', 'write']\n"
     ]
    }
   ],
   "source": [
    "print(dir(crv))"
   ]
  },
  {
   "cell_type": "code",
   "execution_count": 23,
   "id": "058c7ecc-0c1d-4560-82a3-9f20a63e0976",
   "metadata": {},
   "outputs": [
    {
     "name": "stdout",
     "output_type": "stream",
     "text": [
      "Read FEB (1) Page  0 d send:  LC WR 312 0\n",
      "readback:  b'LC WR 312 0\\r\\r\\n'\n",
      "send:  LC WR 313 d\n",
      "readback:  b'LC WR 313 D\\r\\r\\n'\n",
      "send:  LC RD 40D\n",
      "readback:  b'LC RD 40D\\r\\r\\n'\n",
      "read : b'0094\\r\\n'\n",
      "with  0094  (148, ev: 12) words\n",
      "send:  LC RDM 40C 94 20\n",
      "readback:  b'LC RDM 40C 94 20\\r\\r\\n'\n",
      "read : b'0037 0000 000b 0053 8088 0008 0011 001c \\r\\n0014 000c 0009 0009 0009 005a 802d 0ffd \\r\\n0ffe 000a 000d 0003 0fff 0ffe 0fff 005b \\r\\n8004 0001 000e 0015 000a 0004 0004 0004 \\r\\n0002 0017 0011 000a 0007 0012 0016 0000 \\r\\n000f 005c 80f5 0005 0006 005d 8093 0ff6 \\r\\n0ffa 0004 0002 0ffb 0ff6 0ff5 0ff6 005d \\r\\n0000 000d 0051 8017 0ffa 0003 000c 0003 \\r\\n0ffd 0ffd 0ffc 0ffb 0052 8005 0ffb 0006 \\r\\n000f 0004 0ffb 0ffc 0ffe 0ffe 0052 806d \\r\\n0ffa 0ffc 000a 000a 0002 0ffd 0ffd 0ffe \\r\\n0052 80ac 0ffb 0005 000c 0004 0ffd 0ffc \\r\\n0ffc 0ffc 0053 8051 0008 0008 0016 001a \\r\\n0011 000c 000a 000a 0056 80d9 0006 000f \\r\\n0014 000d 0007 0006 0007 0008 005b 80b1 \\r\\n0001 0006 0012 0010 0006 0003 0003 0003 \\r\\n005e 8059 0ff6 0ffe 0008 0001 0ffa 0ff9 \\r\\n0ff8 0ff7 005f 800b 0008 000b 0019 0016 \\r\\n000c 0009 000b 0007 \\r\\n'\n",
      " \n",
      " \n",
      "['0037', '0000', '000b', '0053', '8088', '0008', '0011', '001c', '0014', '000c', '0009', '0009', '0009', '005a', '802d', '0ffd', '0ffe', '000a', '000d', '0003', '0fff', '0ffe', '0fff', '005b', '8004', '0001', '000e', '0015', '000a', '0004', '0004', '0004', '0002', '0017', '0011', '000a', '0007', '0012', '0016', '0000', '000f', '005c', '80f5', '0005', '0006', '005d', '8093', '0ff6', '0ffa', '0004', '0002', '0ffb', '0ff6', '0ff5', '0ff6', '005d', '0000', '000d', '0051', '8017', '0ffa', '0003', '000c', '0003', '0ffd', '0ffd', '0ffc', '0ffb', '0052', '8005', '0ffb', '0006', '000f', '0004', '0ffb', '0ffc', '0ffe', '0ffe', '0052', '806d', '0ffa', '0ffc', '000a', '000a', '0002', '0ffd', '0ffd', '0ffe', '0052', '80ac', '0ffb', '0005', '000c', '0004', '0ffd', '0ffc', '0ffc', '0ffc', '0053', '8051', '0008', '0008', '0016', '001a', '0011', '000c', '000a', '000a', '0056', '80d9', '0006', '000f', '0014', '000d', '0007', '0006', '0007', '0008', '005b', '80b1', '0001', '0006', '0012', '0010', '0006', '0003', '0003', '0003', '005e', '8059', '0ff6', '0ffe', '0008', '0001', '0ffa', '0ff9', '0ff8', '0ff7', '005f', '800b', '0008', '000b', '0019', '0016', '000c', '0009', '000b', '0007']\n",
      "01)  ['0053', '8088', '0008', '0011', '001c', '0014', '000c', '0009', '0009', '0009', '005a', '802d']\n",
      "02)  ['0ffd', '0ffe', '000a', '000d', '0003', '0fff', '0ffe', '0fff', '005b', '8004', '0001', '000e']\n",
      "03)  ['0015', '000a', '0004', '0004', '0004', '0002', '0017', '0011', '000a', '0007', '0012', '0016']\n",
      "04)  ['0000', '000f', '005c', '80f5', '0005', '0006', '005d', '8093', '0ff6', '0ffa', '0004', '0002']\n",
      "05)  ['0ffb', '0ff6', '0ff5', '0ff6', '005d', '0000', '000d', '0051', '8017', '0ffa', '0003', '000c']\n",
      "06)  ['0003', '0ffd', '0ffd', '0ffc', '0ffb', '0052', '8005', '0ffb', '0006', '000f', '0004', '0ffb']\n",
      "07)  ['0ffc', '0ffe', '0ffe', '0052', '806d', '0ffa', '0ffc', '000a', '000a', '0002', '0ffd', '0ffd']\n",
      "08)  ['0ffe', '0052', '80ac', '0ffb', '0005', '000c', '0004', '0ffd', '0ffc', '0ffc', '0ffc', '0053']\n",
      "09)  ['8051', '0008', '0008', '0016', '001a', '0011', '000c', '000a', '000a', '0056', '80d9', '0006']\n",
      "10)  ['000f', '0014', '000d', '0007', '0006', '0007', '0008', '005b', '80b1', '0001', '0006', '0012']\n",
      "11)  ['0010', '0006', '0003', '0003', '0003', '005e', '8059', '0ff6', '0ffe', '0008', '0001', '0ffa']\n",
      "12)  ['0ff9', '0ff8', '0ff7', '005f', '800b', '0008', '000b', '0019', '0016', '000c', '0009', '000b']\n"
     ]
    }
   ],
   "source": [
    "crv.febPageRead(hi='0', lw='d', fpga=1)"
   ]
  }
 ],
 "metadata": {
  "kernelspec": {
   "display_name": "venv",
   "language": "python",
   "name": "venv"
  },
  "language_info": {
   "codemirror_mode": {
    "name": "ipython",
    "version": 3
   },
   "file_extension": ".py",
   "mimetype": "text/x-python",
   "name": "python",
   "nbconvert_exporter": "python",
   "pygments_lexer": "ipython3",
   "version": "3.9.18"
  }
 },
 "nbformat": 4,
 "nbformat_minor": 5
}
