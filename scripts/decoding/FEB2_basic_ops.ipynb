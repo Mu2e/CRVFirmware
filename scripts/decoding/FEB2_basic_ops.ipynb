{
 "cells": [
  {
   "cell_type": "markdown",
   "id": "f36c278e-b019-4d7a-877c-2cb862ce6275",
   "metadata": {},
   "source": [
    "# FEB-II: basic operation\n",
    "\n",
    "Referring to https://github.com/Mu2e/CRV_FEB2/blob/main/README.md "
   ]
  },
  {
   "cell_type": "code",
   "execution_count": 1,
   "id": "1653e776-82fa-439e-89f7-2bdc2be9a86b",
   "metadata": {},
   "outputs": [],
   "source": [
    "# External imports \n",
    "import sys\n",
    "# Internal imports\n",
    "sys.path.append(\"..\")\n",
    "import CRV "
   ]
  },
  {
   "cell_type": "code",
   "execution_count": 2,
   "id": "34dee1a0-32e1-4879-a95c-ecc931b87ca1",
   "metadata": {},
   "outputs": [],
   "source": [
    "# Initialise CRV class\n",
    "crv = CRV.CRV(\"/dev/ttyUSB0\", True) # 2nd ROC is USB0"
   ]
  },
  {
   "cell_type": "markdown",
   "id": "e6da1644-f934-46ff-b206-48626af09070",
   "metadata": {},
   "source": [
    "## Reset\n",
    "\n",
    "```\n",
    "0x000 \tMain Control Register, 16 bits R/W (note: these bits are NOT self clearing!)\n",
    "\tbits 15..9, reserved\n",
    "\tbit 8 = clear DDR FIFO nearly full warning\n",
    "\tbit 7 = clear encoded FM clock parity error\n",
    "\tbit 6 = hard reset AFE chips\n",
    "\tbit 5 = general soft reset for FPGA logic (does not stop clocks)\n",
    "\tbit 2 = reset AFE front end (force front end recalibration and realignment)\n",
    "\tbit 1 = AFE1 power down\n",
    "\tbit 0 = AFE0 power down\n",
    "```\n"
   ]
  },
  {
   "cell_type": "code",
   "execution_count": 4,
   "id": "b893e531-6ab4-4342-8112-947ab77c8337",
   "metadata": {},
   "outputs": [
    {
     "name": "stdout",
     "output_type": "stream",
     "text": [
      "send:  LC RD 000\n",
      "readback:  b'LC RD 000\\r\\r\\n'\n",
      "read : b'0000\\r\\n'\n",
      "send:  LC WR 000 0020\n",
      "readback:  b'LC WR 000 0020\\r\\r\\n'\n",
      "send:  LC WR 000 0000\n",
      "readback:  b'LC WR 000 0000\\r\\r\\n'\n"
     ]
    }
   ],
   "source": [
    "crv.read(\"000\", lc=True) # Check control register \n",
    "crv.write(\"000\", \"0020\", lc=True) # Set bit 5 for soft reset \n",
    "crv.write(\"000\", \"0000\", lc=True) # Clear bits"
   ]
  },
  {
   "cell_type": "markdown",
   "id": "defeed3b-f589-41fd-bf38-cff35ea04a99",
   "metadata": {},
   "source": [
    "## Enable self-trigger mode\n",
    "\n",
    "```\n",
    "0x303 \tTrigger Control Register\n",
    "\tBit 0 = Self Trigger Enable (SlfTrgEn)\n",
    "\t\t0 = use FM encoded clock from ROC to generate timing signals (default)\n",
    "\t\t1 = use local free running counters to generate \"fake\" timing signals\n",
    "\tBit 1 = VCXO 160MHz clock control (\"TrgSrc\") \n",
    "\t\t0 = frequency lock the 160MHz clock to the ROC clock (default)\n",
    "\t\t1 = disable VCXO frequency locking to the ROC clock and \n",
    "\t\t    force the VCXO control voltage to stable mid-point.\t\n",
    "\n",
    "\tThe fake timing signals are a crude approximation of a super cycle and \n",
    "\tconsist of 25k \"on spill\" windows of 1700ns followed by 10k \"off spill\"\n",
    "\twindows of 100us, repeats every 1.0425 seconds.\n",
    "```"
   ]
  },
  {
   "cell_type": "code",
   "execution_count": 5,
   "id": "ce06b8a5-8b66-474e-ae59-af5ab3c70a22",
   "metadata": {},
   "outputs": [
    {
     "name": "stdout",
     "output_type": "stream",
     "text": [
      "send:  LC WR 303 0001\n",
      "readback:  b'LC WR 303 0001\\r\\r\\n'\n"
     ]
    }
   ],
   "source": [
    "# Enable self-trigger mode\n",
    "crv.write(\"303\", \"0001\", lc=True)  # Broadcast write"
   ]
  },
  {
   "cell_type": "markdown",
   "id": "d494d7cc-b10c-49b2-b83d-a2f270b546a9",
   "metadata": {},
   "source": [
    "## Map channels to test pulse \n",
    "\n",
    "```\n",
    "0x080-0x08F Input mux control registers map physical channels to logical channels\n",
    "\n",
    "0x080 Logical channel  0 mux control (default value = 0)\n",
    "...\n",
    "0x08F Logical channel 15 mux control (default value = 15)\n",
    "\n",
    "\tEach of these 5 bit registers is R/W and \n",
    "\tthe register contents are defined as:\n",
    "\n",
    "\t0 = AFE0 ch 0\t\t8  = AFE1 ch 0\n",
    "...\n",
    "\t7 = AFE0 ch 7\t\t15 = AFE1 ch 7\n",
    "\n",
    "\t16 = fake positive going pulse aligned with start of livegap\n",
    "\t     this pulse starts at 0, sharp rise up to 0xAAA, then decay \n",
    "\t     back to zero. for details see pulser.vhd\n",
    "```"
   ]
  },
  {
   "cell_type": "code",
   "execution_count": 6,
   "id": "144cbbba-5e2c-47e7-8af0-498bd5213c8f",
   "metadata": {},
   "outputs": [],
   "source": [
    "# crv.write(\"80\", \"0010\", lc=True)  # Value 16 = test pulse\n",
    "\n",
    "# # Map all logical channels to the test pulse (value 0x0010)\n",
    "# for i in range(16):\n",
    "#     reg = f\"0{i:X}\" if i < 10 else f\"{i:X}\"  # Format: 00, 01, ..., 0F\n",
    "#     crv.write(f\"8{reg}\", \"0010\", lc=True)"
   ]
  },
  {
   "cell_type": "markdown",
   "id": "a1b7a735-f224-4f20-ba22-aa0453f55079",
   "metadata": {},
   "source": [
    "## Check output FIFO \n",
    "```\n",
    "0x017: \tCore Output FIFO Status \n",
    "\t(note this register replaces the multi-FPGA broadcast read 0x317) R/O\n",
    "\tbit 4: output FIFO empty flag \n",
    "\tbit 0: always 1\n",
    "```"
   ]
  },
  {
   "cell_type": "code",
   "execution_count": 7,
   "id": "663409d4-24c6-4981-9b4f-0a3b806b945d",
   "metadata": {},
   "outputs": [
    {
     "name": "stdout",
     "output_type": "stream",
     "text": [
      "send:  LC RD 017\n",
      "readback:  b'LC RD 017\\r\\r\\n'\n",
      "read : b'0011\\r\\n'\n"
     ]
    },
    {
     "data": {
      "text/plain": [
       "['0011']"
      ]
     },
     "execution_count": 7,
     "metadata": {},
     "output_type": "execute_result"
    }
   ],
   "source": [
    "crv.read(\"017\", lc=True)"
   ]
  },
  {
   "cell_type": "markdown",
   "id": "ef7f75d4-18bd-4cca-841c-5eec88a16234",
   "metadata": {},
   "source": [
    "## Request data \n",
    "\n",
    "```\n",
    "0x312 \tRequest UB number, HIGH order bits 31..16\n",
    "\n",
    "0x313 \tRequest UB number, LOW order bits 15..0\n",
    "\tWriting to this register will initiate a read cycle from the \n",
    "\tDDR memory controller and a short time later the requested event\n",
    "\tdata will appear in the core output FIFO.\n",
    "\n",
    "...\n",
    "\n",
    "The microcontroller requests an event to be read from the DDR memory by writing the UB number to regs 0x312 and 0x313. \n",
    "(Always write 0x312 FIRST, as writing to 0x313 is the trigger to GO!) \n",
    "```"
   ]
  },
  {
   "cell_type": "code",
   "execution_count": 8,
   "id": "33d3f12b-57f3-4009-ba59-cdf8693db959",
   "metadata": {},
   "outputs": [
    {
     "name": "stdout",
     "output_type": "stream",
     "text": [
      "send:  LC RDI 312 0000\n",
      "readback:  b'LC RDI 312 0000\\r\\r\\n'\n",
      "read : b''\n",
      "send:  LC WR 313 0000\n",
      "readback:  b'LC WR 313 0000\\r\\r\\n'\n",
      "send:  LC RD 017\n",
      "readback:  b'LC RD 017\\r\\r\\n'\n",
      "read : b'0001\\r\\n'\n"
     ]
    },
    {
     "data": {
      "text/plain": [
       "['0001']"
      ]
     },
     "execution_count": 8,
     "metadata": {},
     "output_type": "execute_result"
    }
   ],
   "source": [
    "# Request UB=1\n",
    "crv.read(\"312\", \"0000\", lc=True)  # Upper bits\n",
    "crv.write(\"313\", \"0000\", lc=True)  # Lower bits (triggers read)\n",
    "crv.read(\"017\", lc=True) # Check output FIFO status again"
   ]
  },
  {
   "cell_type": "markdown",
   "id": "dd45442f-6faf-46ab-af83-e8d88377bb73",
   "metadata": {},
   "source": [
    "## Read all data from FIFO \n",
    "\n",
    "Keep reading words until 0x017 = 011"
   ]
  },
  {
   "cell_type": "code",
   "execution_count": 14,
   "id": "abf9a65f-5b65-44e8-866d-418c6542dc9e",
   "metadata": {},
   "outputs": [
    {
     "name": "stdout",
     "output_type": "stream",
     "text": [
      "send:  LC RD 017\n",
      "readback:  b'LC RD 017\\r\\r\\n'\n",
      "read : b'0001\\r\\n'\n"
     ]
    },
    {
     "data": {
      "text/plain": [
       "['0001']"
      ]
     },
     "execution_count": 14,
     "metadata": {},
     "output_type": "execute_result"
    }
   ],
   "source": [
    "# crv.read(\"017\", lc=True)"
   ]
  },
  {
   "cell_type": "code",
   "execution_count": 9,
   "id": "058c7ecc-0c1d-4560-82a3-9f20a63e0976",
   "metadata": {},
   "outputs": [
    {
     "name": "stdout",
     "output_type": "stream",
     "text": [
      "Read 1008 words from FIFO\n"
     ]
    }
   ],
   "source": [
    "# Temporarily disable verbose output\n",
    "crv.verbose = False\n",
    "\n",
    "# Read all data from FIFO\n",
    "fifo_data = []\n",
    "while crv.read(\"017\", lc=True) != ['0011']:\n",
    "    read_result = crv.read(\"00C\", lc=True)\n",
    "    if read_result:  # Check if the list is not empty\n",
    "        fifo_data.append(read_result[0])\n",
    "    else:\n",
    "        continue  # Continue if we get an empty result\n",
    "\n",
    "# Restore the original verbose setting\n",
    "crv.verbose = True\n",
    "\n",
    "print(f\"Read {len(fifo_data)} words from FIFO\")\n",
    "# print(\"Data:\", fifo_data)"
   ]
  },
  {
   "cell_type": "code",
   "execution_count": 10,
   "id": "f2cf60a3-70ff-49a8-9d57-e449945f7b02",
   "metadata": {},
   "outputs": [
    {
     "name": "stdout",
     "output_type": "stream",
     "text": [
      "send:  LC RD 017\n",
      "readback:  b'LC RD 017\\r\\r\\n'\n",
      "read : b'0011\\r\\n'\n"
     ]
    },
    {
     "data": {
      "text/plain": [
       "['0011']"
      ]
     },
     "execution_count": 10,
     "metadata": {},
     "output_type": "execute_result"
    }
   ],
   "source": [
    "crv.read(\"017\", lc=True)"
   ]
  },
  {
   "cell_type": "code",
   "execution_count": 11,
   "id": "8972b89d-a88a-4768-8622-c0a6276cfa34",
   "metadata": {},
   "outputs": [
    {
     "name": "stdout",
     "output_type": "stream",
     "text": [
      "       EB0   EB1   EB2   EB3   EB4   EB5   EB6   EB7\n",
      "     -----------------------------------------------\n",
      "  0:  000A  000A  000A  000A  200A  000A  000A  0009\n",
      "  1:  0000  0002  0005  0006  0008  000A  000C  000E\n",
      "  2:  0012  0012  0012  0012  0012  0012  0012  0012\n",
      "  3:  4FB3  3FC4  EFED  8FE9  1FE4  AFCE  6FDB  4FF6\n",
      "  4:  BAFB  C7FC  F0FE  EAFE  F4FF  E3FD  D5FD  FEFF\n",
      "  5:  FBAF  7FC3  4FF7  3FF3  6FF5  3FEC  6FD5  3000\n",
      "  6:  BDFB  C2FC  EEFF  F5FF  F9FF  EFFF  D7FD  0300\n",
      "  7:  FC3F  FC0F  FEEF  FF8F  FF9F  FE8F  FDCF  FFC0\n",
      "  8:  0FC6  9FC3  0FF0  2FF5  0FF6  4FE3  7FE0  8FF9\n",
      "  9:  DBFD  C5FC  F3FF  F1FF  ECFF  E7FE  EDFE  FFFF\n",
      " 10:  FDCF  FC4F  FF5F  FF6F  FEBF  FEDF  FF3F  000F\n",
      " 11:  0000  0002  0005  0006  0008  000A  000C  000E\n",
      " 12:  002A  002A  002A  002A  002A  002A  002A  003C\n",
      " 13:  2FDA  BFBD  6FF5  1FF5  6FEF  1FE8  1FF1  2002\n",
      " 14:  CFFD  C1FB  F4FF  EFFF  EBFE  E1FE  EFFF  FC00\n",
      " 15:  FCFF  FC2F  FF3F  FF2F  FF8F  FE5F  FE3F  000F\n",
      " 16:  7FCD  2FC2  0FEE  5FF4  AFFB  4FE3  6FE6  1000\n",
      " 17:  C6FC  C0FC  F3FF  F7FF  FCFF  EAFE  E5FE  FC00\n",
      " 18:  FC3F  FBFF  FF2F  FF9F  001F  FF2F  FE2F  FF6F\n",
      " 19:  1FC0  6FC1  2FF4  2FF2  DFFC  CFF6  CFE4  0FF9\n",
      " 20:  C8FC  C9FC  F0FF  F3FF  FAFF  FEFF  EDFE  0500\n",
      " 21:  FC9F  FC2F  FE6F  FF6F  000F  FF6F  FEBF  00A0\n",
      " 22:  0000  0002  0005  0006  0008  000A  000C  000E\n",
      " 23:  0042  0042  0042  0044  0048  0042  0042  005E\n",
      " 24:  CFC8  5FBF  2FDB  2FFD  5009  BFEE  0FE3  1006\n",
      " 25:  CBFC  C8FC  E5FE  FF00  F600  E5FE  E1FE  F700\n",
      " 26:  FC6F  FC1F  FE8F  FF2F  FF6F  FE4F  FE2F  FFAF\n",
      " 27:  9FC6  5FBA  FFEA  5FE9  5000  BFEA  FFDD  8FF3\n",
      " 28:  CEFC  B7FB  F4FE  E2FE  FE00  EEFE  DFFD  FAFF\n",
      " 29:  FCCF  FBCF  FF8F  FDFF  FECF  FE9F  FE7F  FF4F\n",
      " 30:  6FCB  BFBB  0FF9  0FDC  AFE0  8FE7  CFE8  0FEF\n",
      " 31:  C3FC  BDFB  0100  E2FE  E0FD  EDFE  EEFE  F5FF\n",
      " 32:  FBCF  FC6F  FFF0  FDEF  FE3F  FEEF  FEEF  FFEF\n",
      " 33:  0000  0002  0005  0006  0008  000A  000C  000E\n",
      " 34:  005A  005A  005A  005C  0060  005A  005A  0078\n",
      " 35:  0FBC  EFC5  2FF9  0FDB  9FDD  CFEC  FFEA  1003\n",
      " 36:  C1FC  B7FB  EDFF  E9FE  E3FD  F3FE  D5FD  FF00\n",
      " 37:  FC1F  FBAF  FEBF  FEDF  FF0F  FF2F  FD3F  FF7F\n",
      " 38:  FFC0  5FB9  7FE7  8FEE  DFF2  EFF0  9FD6  7FF5\n",
      " 39:  C2FB  B0FB  E8FE  DFFE  EEFE  EBFE  DBFD  FBFF\n",
      " 40:  FBEF  FAAF  FEFF  FD9F  FF5F  FE8F  FDDF  FF5F\n",
      " 41:  BFBA  AFAE  EFF7  7FD4  0FF2  BFE7  2FE0  9FF6\n",
      " 42:  B6FB  C0FB  E0FE  D9FD  EDFF  ECFE  DFFE  F7FF\n",
      " 43:  FB7F  FC0F  FD8F  FDDF  FEFF  FE7F  FD9F  FF5F\n",
      " 44:  0000  0002  0005  0006  0008  000A  000C  000E\n",
      " 45:  0072  0072  0072  0074  0078  0072  0072  0090\n",
      " 46:  FFB8  BFC6  BFD8  5FDF  1FF5  EFE5  1FD4  2FF6\n",
      " 47:  C1FB  C8FC  DDFD  E4FE  F0FF  DDFD  D1FD  F8FF\n",
      " 48:  FBAF  FBEF  FE1F  FE2F  FEDF  FDAF  FCEF  FF6F\n",
      " 49:  BFB0  DFB5  CFDC  9FDD  0FEC  8FD1  0FD0  1FF4\n",
      " 50:  AEFA  AAFA  E0FD  D6FD  EFFF  CCFC  CEFD  EFFF\n",
      " 51:  FAFF  FABF  FDEF  FDFF  FEDF  FD5F  FCAF  FEEF\n",
      " 52:  EFB7  1FAF  3FE0  8FE1  DFEC  6FD9  AFD3  BFF4\n",
      " 53:  C3FB  B7FB  E9FE  E5FE  E4FE  D2FD  E0FD  00FF\n",
      " 54:  FC4F  FB4F  FE5F  FE3F  FE1F  FD7F  FE5F  FFB0\n",
      " 55:  0000  0002  0005  0006  0008  000A  000C  000E\n",
      " 56:  008A  008A  008A  008C  0090  008A  008A  00A8\n",
      " 57:  8FC1  DFAC  FFE2  AFDF  2FE6  7FD9  3FE6  CFFC\n",
      " 58:  B1FB  AEFA  D9FD  D8FD  F8FF  D5FD  DDFE  F9FF\n",
      " 59:  FAEF  FB2F  FD8F  FD7F  FF0F  FDCF  FD5F  FF1F\n",
      " 60:  4FAD  EFBB  0FD8  0FDF  CFE5  7FE6  2FD0  3FF5\n",
      " 61:  B3FB  C0FB  CFFD  DEFE  D7FD  E5FE  D0FD  F5FF\n",
      " 62:  FB5F  FBEF  FDEF  FDBF  FD6F  FDAF  FC8F  FF3F\n",
      " 63:  BFB2  BFC0  3FE6  BFD7  AFE0  3FCE  2FC4  DFEF\n",
      " 64:  A5FA  B6FB  DEFE  DAFD  EAFE  C5FC  C4FC  F4FE\n",
      " 65:  FA7F  FB5F  FDBF  FD7F  FF1F  000A  000C  000E\n",
      " 66:  00A2  00A2  00A2  00A4  00A8  00A2  00A2  00C0\n",
      " 67:  4FAC  EFBA  BFDC  FFDD  FFF4  0FDB  0FCD  1FF6\n",
      " 68:  B4FB  B9FB  DFFD  E2FD  F2FE  DAFE  D9FD  F2FF\n",
      " 69:  FB1F  FB2F  FD7F  FE3F  FF3F  FD1F  FE1F  FFBF\n",
      " 70:  0FAB  8FAE  BFD5  0FE2  5FF2  2FC9  5FDC  3FFE\n",
      " 71:  B1FB  9CFA  DBFD  DFFE  F0FF  C7FC  D5FD  0200\n",
      " 72:  FB0F  F92F  FDCF  FD8F  FEAF  FCBF  FD5F  0030\n",
      " 73:  6FA7  3F98  BFE1  5FDD  6FE6  2FC7  6FD6  BFFF\n",
      " 74:  A9FA  ACFA  ECFE  E3FE  E5FE  BFFC  D6FD  FDFF\n",
      " 75:  FAAF  FB1F  FE8F  FEBF  FE2F  FC0F  FD9F  000F\n",
      " 76:  0000  0002  0005  0006  0008  000A  000C  000E\n",
      " 77:  00BA  00BA  00BA  00BC  00C0  00BA  00BA  00D8\n",
      " 78:  7FB4  8FB4  5FE7  3FF2  7FE0  AFC3  BFDE  9000\n",
      " 79:  B9FB  BCFB  E7FE  F2FF  CEFD  D1FC  DDFD  F1FF\n",
      " 80:  FBCF  FBCF  FE7F  FE7F  FCAF  FD7F  FDFF  FEFF\n",
      " 81:  4FB6  7FAF  BFDB  8FE0  BFCD  0FD2  2FDC  CFF2\n",
      " 82:  B9FB  A5FA  C9FC  DBFD  E3FD  D1FD  CBFD  03FF\n",
      " 83:  FBEF  FAFF  FCEF  FDCF  FDEF  FD8F  FCBF  0050\n",
      " 84:  9FBD  5FB0  1FDB  2FDE  3FD5  AFD9  BFD2  5FFD\n",
      " 85:  B9FB  B3FB  D6FE  E3FE  DBFD  D8FD  DCFD  F0FF\n",
      " 86:  FBFF  FAAF  FC8F  FE6F  FE3F  FD7F  FD9F  FF4F\n",
      " 87:  0000  0002  0005  0006  0008  000A  000C  000E\n",
      " 88:  00D2  00D2  00D2  00D4  00D8  00D2  00D2  00F0\n",
      " 89:  8FC0  5FA0  CFC2  2FE7  7FEA  0FDB  7FD5  6FF3\n",
      " 90:  B5FB  B4FA  DCFC  F4FF  E6FE  DDFE  DFFD  F7FF\n",
      " 91:  FAEF  FB6F  FE6F  FF1F  FE7F  FDAF  FE5F  FFBF\n",
      " 92:  BFAB  0FB0  7FE8  9FE6  6FEC  0FD7  9FE0  4FFE\n",
      " 93:  A7FA  AFFB  E3FE  DFFD  03FF  C6FD  D5FD  0200\n",
      " 94:  FA8F  FACF  FE5F  FE7F  0050  FC6F  FD9F  0000\n",
      " 95:  DFB1  7FB5  8FEA  4FEF  DFF9  EFD2  5FDF  9FFD\n",
      " 96:  C4FB  BAFB  E5FE  F2FF  E1FE  EBFD  E9FE  F7FF\n",
      " 97:  FC0F  FBAF  FDFF  FECF  FDFF  FF4F  FE5F  FF3F\n",
      " 98:  0000  0002  0005  0006  0008  000A  000C  0000\n",
      " 99:  00EA  00EA  00EA  00EC  00F0  00EA  00EA  0000\n",
      "100:  AFBC  AFBE  9FD9  4FE8  BFE4  EFF0  CFE2  0000\n",
      "101:  B4FB  B4FB  DAFD  E9FE  E9FE  EBFE  D4FD  0000\n",
      "102:  FAFF  FB4F  FDBF  FF5F  FE6F  FE8F  FDCF  0000\n",
      "103:  7FB5  CFBA  EFDB  4FF7  BFE1  FFDD  3FE6  0000\n",
      "104:  BFFB  BEFB  E6FD  F0FF  DBFD  D5FD  F2FF  0000\n",
      "105:  FCAF  FBEF  FECF  FE9F  FE0F  FD2F  FECF  0000\n",
      "106:  9FD4  5FB9  2FEA  9FDF  CFE1  CFD7  DFE4  0000\n",
      "107:  DDFD  B0FB  E4FE  DAFD  DCFD  E3FD  D1FD  0000\n",
      "108:  FD5F  FACF  FE3F  FD6F  FE1F  FDCF  FCCF  0000\n",
      "109:  FFFF  FFFF  FFFF  FFFF  FFFF  FFFF  FFFF  FFFF\n",
      "110:  FFFF  FFFF  FFFF  FFFF  FFFF  FFFF  FFFF  FFFF\n",
      "111:  FFFF  FFFF  FFFF  FFFF  FFFF  FFFF  FFFF  FFFF\n",
      "112:  FFFF  FFFF  FFFF  FFFF  FFFF  FFFF  FFFF  FFFF\n",
      "113:  FFFF  FFFF  FFFF  FFFF  FFFF  FFFF  FFFF  FFFF\n",
      "114:  FFFF  FFFF  FFFF  FFFF  FFFF  FFFF  FFFF  FFFF\n",
      "115:  FFFF  FFFF  FFFF  FFFF  FFFF  FFFF  FFFF  FFFF\n",
      "116:  FFFF  FFFF  FFFF  FFFF  FFFF  FFFF  FFFF  FFFF\n",
      "117:  FFFF  FFFF  FFFF  FFFF  FFFF  FFFF  FFFF  FFFF\n",
      "118:  FFFF  FFFF  FFFF  FFFF  FFFF  FFFF  FFFF  FFFF\n",
      "119:  FFFF  FFFF  FFFF  FFFF  FFFF  FFFF  FFFF  FFFF\n",
      "120:  FFFF  FFFF  FFFF  FFFF  FFFF  FFFF  FFFF  FFFF\n",
      "121:  FFFF  FFFF  FFFF  FFFF  FFFF  FFFF  FFFF  FFFF\n",
      "122:  FFFF  FFFF  FFFF  FFFF  FFFF  FFFF  FFFF  FFFF\n",
      "123:  FFFF  FFFF  FFFF  FFFF  FFFF  FFFF  FFFF  FFFF\n",
      "124:  FFFF  FFFF  FFFF  FFFF  FFFF  FFFF  FFFF  FFFF\n",
      "125:  FFFF  FFFF  FFFF  FFFF  FFFF  FFFF  FFFF  FFFF\n"
     ]
    }
   ],
   "source": [
    "def reshape_data(data, columns=8):\n",
    "    \"\"\"Reshape the data into rows of 'columns' values each.\"\"\"\n",
    "    reshaped = []\n",
    "    for i in range(0, len(data), columns):\n",
    "        if i+columns <= len(data):\n",
    "            reshaped.append(data[i:i+columns])\n",
    "    return reshaped\n",
    "\n",
    "# Column headers for event builders\n",
    "headers = [\"EB0\", \"EB1\", \"EB2\", \"EB3\", \"EB4\", \"EB5\", \"EB6\", \"EB7\"]\n",
    "\n",
    "# Create header line\n",
    "header_line = \"     \" + \" \".join(f\"{h:>5}\" for h in headers)\n",
    "print(header_line)\n",
    "print(\"     \" + \"-\" * (5*8 + 7))  # Separator line\n",
    "\n",
    "# Reshape the data\n",
    "reshaped_data = reshape_data(fifo_data)\n",
    "\n",
    "# Display in a more readable format with column names\n",
    "for i, row in enumerate(reshaped_data):\n",
    "    print(f\"{i:3d}: {' '.join(f'{val:>5}' for val in row)}\")"
   ]
  },
  {
   "cell_type": "markdown",
   "id": "3fe526b1-b07e-4650-a9cf-2668c2c9b5a7",
   "metadata": {},
   "source": [
    "Nice that we get words. Not sure what they mean, yet? "
   ]
  },
  {
   "cell_type": "code",
   "execution_count": 12,
   "id": "7bc0849e-2302-44e8-8af8-f2604c6935d7",
   "metadata": {},
   "outputs": [
    {
     "name": "stdout",
     "output_type": "stream",
     "text": [
      "send:  LC RD 017\n",
      "readback:  b'LC RD 017\\r\\r\\n'\n",
      "read : b'0011\\r\\n'\n"
     ]
    },
    {
     "data": {
      "text/plain": [
       "['0011']"
      ]
     },
     "execution_count": 12,
     "metadata": {},
     "output_type": "execute_result"
    }
   ],
   "source": [
    "crv.read(\"017\", lc=True) # why is not 011? don't understand that. "
   ]
  },
  {
   "cell_type": "code",
   "execution_count": 12,
   "id": "2157b507-cb87-4f32-b523-136a2ceaecf6",
   "metadata": {},
   "outputs": [],
   "source": [
    "# original_verbose"
   ]
  },
  {
   "cell_type": "code",
   "execution_count": null,
   "id": "2b988ad1-8c4a-4336-b639-d8ccb9aa287e",
   "metadata": {},
   "outputs": [],
   "source": []
  }
 ],
 "metadata": {
  "kernelspec": {
   "display_name": "venv",
   "language": "python",
   "name": "venv"
  },
  "language_info": {
   "codemirror_mode": {
    "name": "ipython",
    "version": 3
   },
   "file_extension": ".py",
   "mimetype": "text/x-python",
   "name": "python",
   "nbconvert_exporter": "python",
   "pygments_lexer": "ipython3",
   "version": "3.9.21"
  }
 },
 "nbformat": 4,
 "nbformat_minor": 5
}
