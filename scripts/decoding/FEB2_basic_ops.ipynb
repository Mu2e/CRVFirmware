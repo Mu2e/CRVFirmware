{
 "cells": [
  {
   "cell_type": "markdown",
   "id": "f36c278e-b019-4d7a-877c-2cb862ce6275",
   "metadata": {},
   "source": [
    "# FEB-II: basic operation\n",
    "\n",
    "Referring to https://github.com/Mu2e/CRV_FEB2/blob/main/README.md "
   ]
  },
  {
   "cell_type": "code",
   "execution_count": 1,
   "id": "1653e776-82fa-439e-89f7-2bdc2be9a86b",
   "metadata": {},
   "outputs": [],
   "source": [
    "# External imports \n",
    "import sys\n",
    "# Internal imports\n",
    "sys.path.append(\"..\")\n",
    "import CRV "
   ]
  },
  {
   "cell_type": "code",
   "execution_count": 2,
   "id": "34dee1a0-32e1-4879-a95c-ecc931b87ca1",
   "metadata": {},
   "outputs": [],
   "source": [
    "# Initialise CRV class\n",
    "crv = CRV.CRV(\"/dev/ttyUSB0\", True) # 2nd ROC is USB0"
   ]
  },
  {
   "cell_type": "markdown",
   "id": "e6da1644-f934-46ff-b206-48626af09070",
   "metadata": {},
   "source": [
    "## Reset\n",
    "\n",
    "```\n",
    "0x000 \tMain Control Register, 16 bits R/W (note: these bits are NOT self clearing!)\n",
    "\tbits 15..9, reserved\n",
    "\tbit 8 = clear DDR FIFO nearly full warning\n",
    "\tbit 7 = clear encoded FM clock parity error\n",
    "\tbit 6 = hard reset AFE chips\n",
    "\tbit 5 = general soft reset for FPGA logic (does not stop clocks)\n",
    "\tbit 2 = reset AFE front end (force front end recalibration and realignment)\n",
    "\tbit 1 = AFE1 power down\n",
    "\tbit 0 = AFE0 power down\n",
    "```\n"
   ]
  },
  {
   "cell_type": "code",
   "execution_count": 3,
   "id": "b893e531-6ab4-4342-8112-947ab77c8337",
   "metadata": {},
   "outputs": [
    {
     "name": "stdout",
     "output_type": "stream",
     "text": [
      "send:  LC RD 000\n",
      "readback:  b'LC RD 000\\r\\r\\n'\n",
      "read : b'0000\\r\\n'\n",
      "send:  LC WR 000 0020\n",
      "readback:  b'LC WR 000 0020\\r\\r\\n'\n",
      "send:  LC WR 000 0000\n",
      "readback:  b'LC WR 000 0000\\r\\r\\n'\n"
     ]
    }
   ],
   "source": [
    "crv.read(\"000\", lc=True) # Check control register \n",
    "crv.write(\"000\", \"0020\", lc=True) # Set bit 5 for soft reset \n",
    "crv.write(\"000\", \"0000\", lc=True) # Clear bits"
   ]
  },
  {
   "cell_type": "markdown",
   "id": "defeed3b-f589-41fd-bf38-cff35ea04a99",
   "metadata": {},
   "source": [
    "## Enable self-trigger mode\n",
    "\n",
    "```\n",
    "0x303 \tTrigger Control Register\n",
    "\tBit 0 = Self Trigger Enable (SlfTrgEn)\n",
    "\t\t0 = use FM encoded clock from ROC to generate timing signals (default)\n",
    "\t\t1 = use local free running counters to generate \"fake\" timing signals\n",
    "\tBit 1 = VCXO 160MHz clock control (\"TrgSrc\") \n",
    "\t\t0 = frequency lock the 160MHz clock to the ROC clock (default)\n",
    "\t\t1 = disable VCXO frequency locking to the ROC clock and \n",
    "\t\t    force the VCXO control voltage to stable mid-point.\t\n",
    "\n",
    "\tThe fake timing signals are a crude approximation of a super cycle and \n",
    "\tconsist of 25k \"on spill\" windows of 1700ns followed by 10k \"off spill\"\n",
    "\twindows of 100us, repeats every 1.0425 seconds.\n",
    "```"
   ]
  },
  {
   "cell_type": "code",
   "execution_count": 4,
   "id": "ce06b8a5-8b66-474e-ae59-af5ab3c70a22",
   "metadata": {},
   "outputs": [
    {
     "name": "stdout",
     "output_type": "stream",
     "text": [
      "send:  LC WR 303 0001\n",
      "readback:  b'LC WR 303 0001\\r\\r\\n'\n"
     ]
    }
   ],
   "source": [
    "# Enable self-trigger mode\n",
    "crv.write(\"303\", \"0001\", lc=True)  # Broadcast write"
   ]
  },
  {
   "cell_type": "markdown",
   "id": "d494d7cc-b10c-49b2-b83d-a2f270b546a9",
   "metadata": {},
   "source": [
    "## Map channels to test pulse \n",
    "\n",
    "```\n",
    "0x080-0x08F Input mux control registers map physical channels to logical channels\n",
    "\n",
    "0x080 Logical channel  0 mux control (default value = 0)\n",
    "...\n",
    "0x08F Logical channel 15 mux control (default value = 15)\n",
    "\n",
    "\tEach of these 5 bit registers is R/W and \n",
    "\tthe register contents are defined as:\n",
    "\n",
    "\t0 = AFE0 ch 0\t\t8  = AFE1 ch 0\n",
    "...\n",
    "\t7 = AFE0 ch 7\t\t15 = AFE1 ch 7\n",
    "\n",
    "\t16 = fake positive going pulse aligned with start of livegap\n",
    "\t     this pulse starts at 0, sharp rise up to 0xAAA, then decay \n",
    "\t     back to zero. for details see pulser.vhd\n",
    "```"
   ]
  },
  {
   "cell_type": "code",
   "execution_count": 5,
   "id": "144cbbba-5e2c-47e7-8af0-498bd5213c8f",
   "metadata": {},
   "outputs": [
    {
     "name": "stdout",
     "output_type": "stream",
     "text": [
      "send:  LC WR 800 0010\n",
      "readback:  b'LC WR 800 0010\\r\\r\\n'\n",
      "send:  LC WR 801 0010\n",
      "readback:  b'LC WR 801 0010\\r\\r\\n'\n",
      "send:  LC WR 802 0010\n",
      "readback:  b'LC WR 802 0010\\r\\r\\n'\n",
      "send:  LC WR 803 0010\n",
      "readback:  b'LC WR 803 0010\\r\\r\\n'\n",
      "send:  LC WR 804 0010\n",
      "readback:  b'LC WR 804 0010\\r\\r\\n'\n",
      "send:  LC WR 805 0010\n",
      "readback:  b'LC WR 805 0010\\r\\r\\n'\n",
      "send:  LC WR 806 0010\n",
      "readback:  b'LC WR 806 0010\\r\\r\\n'\n",
      "send:  LC WR 807 0010\n",
      "readback:  b'LC WR 807 0010\\r\\r\\n'\n",
      "send:  LC WR 808 0010\n",
      "readback:  b'LC WR 808 0010\\r\\r\\n'\n",
      "send:  LC WR 809 0010\n",
      "readback:  b'LC WR 809 0010\\r\\r\\n'\n",
      "send:  LC WR 8A 0010\n",
      "readback:  b'LC WR 8A 0010\\r\\r\\n'\n",
      "send:  LC WR 8B 0010\n",
      "readback:  b'LC WR 8B 0010\\r\\r\\n'\n",
      "send:  LC WR 8C 0010\n",
      "readback:  b'LC WR 8C 0010\\r\\r\\n'\n",
      "send:  LC WR 8D 0010\n",
      "readback:  b'LC WR 8D 0010\\r\\r\\n'\n",
      "send:  LC WR 8E 0010\n",
      "readback:  b'LC WR 8E 0010\\r\\r\\n'\n",
      "send:  LC WR 8F 0010\n",
      "readback:  b'LC WR 8F 0010\\r\\r\\n'\n"
     ]
    }
   ],
   "source": [
    "# crv.write(\"80\", \"0010\", lc=True)  # Value 16 = test pulse\n",
    "\n",
    "# Map all logical channels to the test pulse (value 0x0010)\n",
    "for i in range(16):\n",
    "    reg = f\"0{i:X}\" if i < 10 else f\"{i:X}\"  # Format: 00, 01, ..., 0F\n",
    "    crv.write(f\"8{reg}\", \"0010\", lc=True)"
   ]
  },
  {
   "cell_type": "markdown",
   "id": "a1b7a735-f224-4f20-ba22-aa0453f55079",
   "metadata": {},
   "source": [
    "## Check output FIFO \n",
    "```\n",
    "0x017: \tCore Output FIFO Status \n",
    "\t(note this register replaces the multi-FPGA broadcast read 0x317) R/O\n",
    "\tbit 4: output FIFO empty flag \n",
    "\tbit 0: always 1\n",
    "```"
   ]
  },
  {
   "cell_type": "code",
   "execution_count": 6,
   "id": "663409d4-24c6-4981-9b4f-0a3b806b945d",
   "metadata": {},
   "outputs": [
    {
     "name": "stdout",
     "output_type": "stream",
     "text": [
      "send:  LC RD 017\n",
      "readback:  b'LC RD 017\\r\\r\\n'\n",
      "read : b'0001\\r\\n'\n"
     ]
    },
    {
     "data": {
      "text/plain": [
       "['0001']"
      ]
     },
     "execution_count": 6,
     "metadata": {},
     "output_type": "execute_result"
    }
   ],
   "source": [
    "crv.read(\"017\", lc=True)"
   ]
  },
  {
   "cell_type": "markdown",
   "id": "ef7f75d4-18bd-4cca-841c-5eec88a16234",
   "metadata": {},
   "source": [
    "## Request data \n",
    "\n",
    "```\n",
    "0x312 \tRequest UB number, HIGH order bits 31..16\n",
    "\n",
    "0x313 \tRequest UB number, LOW order bits 15..0\n",
    "\tWriting to this register will initiate a read cycle from the \n",
    "\tDDR memory controller and a short time later the requested event\n",
    "\tdata will appear in the core output FIFO.\n",
    "\n",
    "...\n",
    "\n",
    "The microcontroller requests an event to be read from the DDR memory by writing the UB number to regs 0x312 and 0x313. \n",
    "(Always write 0x312 FIRST, as writing to 0x313 is the trigger to GO!) \n",
    "```"
   ]
  },
  {
   "cell_type": "code",
   "execution_count": 7,
   "id": "33d3f12b-57f3-4009-ba59-cdf8693db959",
   "metadata": {},
   "outputs": [
    {
     "name": "stdout",
     "output_type": "stream",
     "text": [
      "send:  LC RDI 312 0000\n",
      "readback:  b'LC RDI 312 0000\\r\\r\\n'\n",
      "read : b''\n",
      "send:  LC WR 313 0000\n",
      "readback:  b'LC WR 313 0000\\r\\r\\n'\n",
      "send:  LC RD 017\n",
      "readback:  b'LC RD 017\\r\\r\\n'\n",
      "read : b'0001\\r\\n'\n"
     ]
    },
    {
     "data": {
      "text/plain": [
       "['0001']"
      ]
     },
     "execution_count": 7,
     "metadata": {},
     "output_type": "execute_result"
    }
   ],
   "source": [
    "# Request UB=0\n",
    "crv.read(\"312\", \"0000\", lc=True)  # Upper bits\n",
    "crv.write(\"313\", \"0000\", lc=True)  # Lower bits (triggers read)\n",
    "crv.read(\"017\", lc=True) # Check output FIFO status again"
   ]
  },
  {
   "cell_type": "markdown",
   "id": "dd45442f-6faf-46ab-af83-e8d88377bb73",
   "metadata": {},
   "source": [
    "## Read all data from FIFO \n",
    "\n",
    "Keep reading words until 0x017 = 011"
   ]
  },
  {
   "cell_type": "code",
   "execution_count": 8,
   "id": "abf9a65f-5b65-44e8-866d-418c6542dc9e",
   "metadata": {},
   "outputs": [
    {
     "name": "stdout",
     "output_type": "stream",
     "text": [
      "send:  LC RD 017\n",
      "readback:  b'LC RD 017\\r\\r\\n'\n",
      "read : b'0001\\r\\n'\n"
     ]
    },
    {
     "data": {
      "text/plain": [
       "['0001']"
      ]
     },
     "execution_count": 8,
     "metadata": {},
     "output_type": "execute_result"
    }
   ],
   "source": [
    "crv.read(\"017\", lc=True)"
   ]
  },
  {
   "cell_type": "code",
   "execution_count": 9,
   "id": "058c7ecc-0c1d-4560-82a3-9f20a63e0976",
   "metadata": {},
   "outputs": [
    {
     "name": "stdout",
     "output_type": "stream",
     "text": [
      "Read 456 words from FIFO\n"
     ]
    }
   ],
   "source": [
    "# Temporarily disable verbose output\n",
    "crv.verbose = False\n",
    "\n",
    "# Read all data from FIFO\n",
    "fifo_data = []\n",
    "while crv.read(\"017\", lc=True) != ['0011']:\n",
    "    read_result = crv.read(\"00C\", lc=True)\n",
    "    if read_result:  # Check if the list is not empty\n",
    "        fifo_data.append(read_result[0])\n",
    "    else:\n",
    "        break  # Exit the loop if we get an empty result\n",
    "\n",
    "# Restore the original verbose setting\n",
    "crv.verbose = True\n",
    "\n",
    "print(f\"Read {len(fifo_data)} words from FIFO\")\n",
    "# print(\"Data:\", fifo_data)"
   ]
  },
  {
   "cell_type": "code",
   "execution_count": 10,
   "id": "8972b89d-a88a-4768-8622-c0a6276cfa34",
   "metadata": {},
   "outputs": [
    {
     "name": "stdout",
     "output_type": "stream",
     "text": [
      "       EB0   EB1   EB2   EB3   EB4   EB5   EB6   EB7\n",
      "     -----------------------------------------------\n",
      "  0:  000A  000A  000A  000A  000A  000A  000A  000A\n",
      "  1:  0000  0002  0004  0006  0008  000A  000C  000E\n",
      "  2:  0012  0012  0032  0012  0012  0012  0012  0012\n",
      "  3:  5FAA  1FAE  8010  1FDF  7FE4  7FC8  9FC8  0FF0\n",
      "  4:  ACFA  ACFB  FF00  E7FE  E3FE  C9FC  CBFC  E9FF\n",
      "  5:  FB4F  FAAF  003F  FE6F  FE5F  FCBF  FCBF  FE4F\n",
      "  6:  5FB5  BFAB  0008  5FDD  BFE2  BFCB  EFCE  EFDD\n",
      "  7:  B3FB  AEFA  1401  D2FD  D7FD  C9FC  CAFC  E4FD\n",
      "  8:  FB2F  FAFF  0170  FD3F  FDDF  FCDF  FCCF  FE8F\n",
      "  9:  FFB5  1FB2  E024  AFDB  FFE6  1FD3  1FCF  1FF0\n",
      " 10:  C0FB  ADFB  3A02  DDFD  ECFE  C9FD  D2FD  ECFF\n",
      " 11:  FC0F  FADF  0430  FD0F  FE7F  FC9F  FD8F  FE2F\n",
      " 12:  0000  0002  0004  0006  0008  000A  000C  000E\n",
      " 13:  002A  002A  00D0  002A  002A  002A  002A  002A\n",
      " 14:  AFC5  EFAA  0005  DFCB  AFE4  2FCC  FFDF  BFE0\n",
      " 15:  C6FC  B1FA  FB00  CEFC  EAFE  D4FD  E1FD  E0FD\n",
      " 16:  FC7F  FB7F  002F  FCEF  FEAF  FDAF  FE3F  FE9F\n",
      " 17:  EFC4  AFB2  000A  5FD3  1FE6  7FDD  4FE6  EFEC\n",
      " 18:  B9FB  ACFA  1101  D5FD  DCFE  D1FD  D9FE  E5FE\n",
      " 19:  FB5F  FB7F  00E0  FD0F  FDFF  FD1F  FD2F  FE2F\n",
      " 20:  8FB3  BFBA  B011  3FD1  CFE1  BFDA  DFDB  6FE2\n",
      " 21:  BEFB  B9FB  2201  D4FD  D7FD  D6FD  D2FD  F0FE\n",
      " 22:  FC3F  FB8F  0220  FD9F  FDBF  FD5F  FD0F  FFDF\n",
      " 23:  0000  0002  0005  0006  0008  000A  000C  000E\n",
      " 24:  0042  0042  0012  0042  0042  0042  0042  004A\n",
      " 25:  FFCA  1FBB  5FD8  0FE6  8FE3  9FD7  0FCF  7010\n",
      " 26:  C6FC  C6FC  D5FD  F5FF  E6FE  DEFD  D1FD  F300\n",
      " 27:  FC4F  FCAF  FD6F  FF7F  FEBF  FE4F  FDBF  FE7F\n",
      " 28:  FFBF  0FBF  6FD8  AFF1  CFE4  BFE0  6FDC  CFE8\n",
      " 29:  A9FA  A5FB  D5FD  DEFE  D5FD  D8FD  CEFD  EDFE\n",
      " 30:  FABF  FA2F  FD3F  FD3F  FD7F  FD6F  FCDF  FF2F\n",
      " 31:  7FB7  7FAC  CFCF  AFD6  EFD9  8FDE  7FCE  4FFC\n",
      " 32:  D1FC  C0FB  E3FD  FDFE  E9FD  EFFE  DFFD  0300\n",
      " 33:  FCDF  FC6F  FE5F  001F  FF7F  FF4F  FE3F  0020\n",
      " 34:  0000  0002  0005  0006  0008  000A  000C  000E\n",
      " 35:  005A  005A  002A  005A  005A  005A  005A  007A\n",
      " 36:  DFCB  0FCD  DFE8  3000  AFFC  5FF4  6FE6  5008\n",
      " 37:  CCFC  DBFD  ECFE  EBFF  F7FF  F0FF  DCFE  FF00\n",
      " 38:  FCEF  FDFF  FE7F  FEAF  FFDF  FEAF  FD1F  FFAF\n",
      " 39:  AFCE  FFDE  AFE2  8FEE  7FFD  0FE9  1FD1  7FFF\n",
      " 40:  C6FC  E0FD  DAFD  03FF  F2FF  FDFF  D6FD  0E00\n",
      " 41:  FCAF  FEAF  FDBF  0090  FF4F  009F  FE0F  0060\n",
      " 42:  AFD5  8FEB  9FD7  6008  1FF3  5007  8FE4  9000\n",
      " 43:  DBFD  E6FE  D4FD  0700  F2FF  0800  E4FE  F5FF\n",
      " 44:  FDAF  FE0F  FE0F  0000  FF2F  0010  FE1F  FECF\n",
      " 45:  0000  0002  0005  0006  0008  000A  000C  000E\n",
      " 46:  0072  0072  0042  0072  0072  0072  0072  0092\n",
      " 47:  EFD6  5FD4  6FED  F002  9FF3  FFF5  CFDD  FFE9\n",
      " 48:  C9FC  C1FC  F8FF  F8FF  E6FE  EEFE  DBFD  DBFD\n",
      " 49:  FC8F  FC0F  FF3F  FF7F  FE8F  FE7F  FD6F  FDCF\n",
      " 50:  5FC3  4FC4  2FEB  1FFD  EFF2  BFE5  4FD2  CFE3\n",
      " 51:  C4FC  C4FC  DDFE  FA00  E9FE  E2FE  DCFD  FAFE\n",
      " 52:  FC0F  FC8F  FD0F  FF7F  FE9F  FE4F  FDFF  000F\n",
      " 53:  3FC2  3FC6  AFD0  4FF3  9FEA  EFE5  7FE6  BFFD\n",
      " 54:  CDFC  C3FC  E9FD  F1FF  E9FE  F4FE  E2FE  FAFF\n",
      " 55:  FCEF  FC6F  FF1F  FE9F  FE8F  FF3F  FDBF  FF8F\n",
      " 56:  0000  0002  0005  0006  0008  000A  000C  000E\n"
     ]
    }
   ],
   "source": [
    "def reshape_data(data, columns=8):\n",
    "    \"\"\"Reshape the data into rows of 'columns' values each.\"\"\"\n",
    "    reshaped = []\n",
    "    for i in range(0, len(data), columns):\n",
    "        if i+columns <= len(data):\n",
    "            reshaped.append(data[i:i+columns])\n",
    "    return reshaped\n",
    "\n",
    "# Column headers for event builders\n",
    "headers = [\"EB0\", \"EB1\", \"EB2\", \"EB3\", \"EB4\", \"EB5\", \"EB6\", \"EB7\"]\n",
    "\n",
    "# Create header line\n",
    "header_line = \"     \" + \" \".join(f\"{h:>5}\" for h in headers)\n",
    "print(header_line)\n",
    "print(\"     \" + \"-\" * (5*8 + 7))  # Separator line\n",
    "\n",
    "# Reshape the data\n",
    "reshaped_data = reshape_data(fifo_data)\n",
    "\n",
    "# Display in a more readable format with column names\n",
    "for i, row in enumerate(reshaped_data):\n",
    "    print(f\"{i:3d}: {' '.join(f'{val:>5}' for val in row)}\")"
   ]
  },
  {
   "cell_type": "markdown",
   "id": "3fe526b1-b07e-4650-a9cf-2668c2c9b5a7",
   "metadata": {},
   "source": [
    "Nice that we get words. Not sure what they mean, yet? "
   ]
  },
  {
   "cell_type": "code",
   "execution_count": 11,
   "id": "7bc0849e-2302-44e8-8af8-f2604c6935d7",
   "metadata": {},
   "outputs": [
    {
     "name": "stdout",
     "output_type": "stream",
     "text": [
      "send:  LC RD 017\n",
      "readback:  b'LC RD 017\\r\\r\\n'\n",
      "read : b''\n"
     ]
    },
    {
     "data": {
      "text/plain": [
       "[]"
      ]
     },
     "execution_count": 11,
     "metadata": {},
     "output_type": "execute_result"
    }
   ],
   "source": [
    "crv.read(\"017\", lc=True) # why is not 011? don't understand that. "
   ]
  },
  {
   "cell_type": "code",
   "execution_count": 13,
   "id": "2157b507-cb87-4f32-b523-136a2ceaecf6",
   "metadata": {},
   "outputs": [],
   "source": [
    "# original_verbose"
   ]
  },
  {
   "cell_type": "code",
   "execution_count": null,
   "id": "2b988ad1-8c4a-4336-b639-d8ccb9aa287e",
   "metadata": {},
   "outputs": [],
   "source": []
  }
 ],
 "metadata": {
  "kernelspec": {
   "display_name": "venv",
   "language": "python",
   "name": "venv"
  },
  "language_info": {
   "codemirror_mode": {
    "name": "ipython",
    "version": 3
   },
   "file_extension": ".py",
   "mimetype": "text/x-python",
   "name": "python",
   "nbconvert_exporter": "python",
   "pygments_lexer": "ipython3",
   "version": "3.9.21"
  }
 },
 "nbformat": 4,
 "nbformat_minor": 5
}
